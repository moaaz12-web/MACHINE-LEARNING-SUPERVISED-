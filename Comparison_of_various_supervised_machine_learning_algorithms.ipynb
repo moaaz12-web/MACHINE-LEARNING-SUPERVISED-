{
  "nbformat": 4,
  "nbformat_minor": 0,
  "metadata": {
    "colab": {
      "name": "Comparison of various supervised machine learning algorithms.ipynb",
      "provenance": [],
      "collapsed_sections": [],
      "authorship_tag": "ABX9TyOqs301rK3I74VXBD73zwlO",
      "include_colab_link": true
    },
    "kernelspec": {
      "name": "python3",
      "display_name": "Python 3"
    },
    "language_info": {
      "name": "python"
    }
  },
  "cells": [
    {
      "cell_type": "markdown",
      "metadata": {
        "id": "view-in-github",
        "colab_type": "text"
      },
      "source": [
        "<a href=\"https://colab.research.google.com/github/moaaz12-web/MACHINE-LEARNING-SUPERVISED-/blob/main/Comparison_of_various_supervised_machine_learning_algorithms.ipynb\" target=\"_parent\"><img src=\"https://colab.research.google.com/assets/colab-badge.svg\" alt=\"Open In Colab\"/></a>"
      ]
    },
    {
      "cell_type": "code",
      "execution_count": 101,
      "metadata": {
        "id": "CYK32LR0OmT1"
      },
      "outputs": [],
      "source": [
        "from sklearn.datasets import load_digits\n",
        "import numpy as np\n",
        "import pandas as pd\n",
        "import matplotlib.pyplot as plt\n",
        "import seaborn as sns"
      ]
    },
    {
      "cell_type": "markdown",
      "source": [
        "# LOADING THE DATA AND INITIALIZING VARIABLES"
      ],
      "metadata": {
        "id": "zn7PUApL-Nap"
      }
    },
    {
      "cell_type": "code",
      "source": [
        "digits = load_digits()\n",
        "X = digits.data\n",
        "ims = digits.images\n",
        "targets = digits.target"
      ],
      "metadata": {
        "id": "Y9aRNzQtPiPb"
      },
      "execution_count": 102,
      "outputs": []
    },
    {
      "cell_type": "code",
      "source": [
        "targets = targets.reshape(-1,1)"
      ],
      "metadata": {
        "id": "rPCMdbi57zJN"
      },
      "execution_count": 103,
      "outputs": []
    },
    {
      "cell_type": "markdown",
      "source": [
        "# PLOTTING SOME IMAGES"
      ],
      "metadata": {
        "id": "jik9Z3Rs-I1Y"
      }
    },
    {
      "cell_type": "code",
      "source": [
        "%matplotlib inline\n",
        "plt.imshow(ims[88], cmap=plt.cm.gray_r, interpolation='nearest')"
      ],
      "metadata": {
        "colab": {
          "base_uri": "https://localhost:8080/",
          "height": 282
        },
        "id": "J_hq0xtsCq49",
        "outputId": "87d04c05-1beb-4a50-b06c-a3df643d8779"
      },
      "execution_count": 158,
      "outputs": [
        {
          "output_type": "execute_result",
          "data": {
            "text/plain": [
              "<matplotlib.image.AxesImage at 0x7f364f719190>"
            ]
          },
          "metadata": {},
          "execution_count": 158
        },
        {
          "output_type": "display_data",
          "data": {
            "image/png": "[encoded data removed]",
            "text/plain": [
              "<Figure size 432x288 with 1 Axes>"
            ]
          },
          "metadata": {
            "needs_background": "light"
          }
        }
      ]
    },
    {
      "cell_type": "code",
      "source": [
        "%matplotlib inline\n",
        "plt.imshow(ims[1], cmap=plt.cm.gray_r, interpolation='nearest');"
      ],
      "metadata": {
        "colab": {
          "base_uri": "https://localhost:8080/",
          "height": 265
        },
        "id": "FVL5TKFHCqv7",
        "outputId": "216c18ac-3908-4aa8-eaaf-f6cf57f4bb53"
      },
      "execution_count": 162,
      "outputs": [
        {
          "output_type": "display_data",
          "data": {
            "image/png": "[encoded data removed]",
            "text/plain": [
              "<Figure size 432x288 with 1 Axes>"
            ]
          },
          "metadata": {
            "needs_background": "light"
          }
        }
      ]
    },
    {
      "cell_type": "code",
      "source": [
        "%matplotlib inline\n",
        "plt.imshow(ims[0], cmap=plt.cm.gray_r, interpolation='nearest')\n"
      ],
      "metadata": {
        "colab": {
          "base_uri": "https://localhost:8080/",
          "height": 282
        },
        "id": "Cmw2rnEIPlOy",
        "outputId": "3bfca999-5cc2-4d55-bc98-dcba7a41ad67"
      },
      "execution_count": 160,
      "outputs": [
        {
          "output_type": "execute_result",
          "data": {
            "text/plain": [
              "<matplotlib.image.AxesImage at 0x7f364fda04d0>"
            ]
          },
          "metadata": {},
          "execution_count": 160
        },
        {
          "output_type": "display_data",
          "data": {
            "image/png": "[encoded data removed]",
            "text/plain": [
              "<Figure size 432x288 with 1 Axes>"
            ]
          },
          "metadata": {
            "needs_background": "light"
          }
        }
      ]
    },
    {
      "cell_type": "markdown",
      "source": [
        "# SPLITTING INTO TRAINING AND TESTING DATA"
      ],
      "metadata": {
        "id": "gEB28XDb-UZW"
      }
    },
    {
      "cell_type": "code",
      "source": [
        "from sklearn.model_selection import train_test_split\n",
        "X_train, X_test, y_train, y_test = train_test_split(X, targets, test_size=0.13, random_state=42)"
      ],
      "metadata": {
        "id": "eK2N0wQgT5QG"
      },
      "execution_count": 142,
      "outputs": []
    },
    {
      "cell_type": "code",
      "source": [
        "print(\"TRAIN DATA : \", X_train.shape, \" TEST DATA: \", X_test.shape)\n",
        "print(\"TRAIN DATA (y) : \", y_train.shape, \" TEST DATA (y): \", y_test.shape)"
      ],
      "metadata": {
        "colab": {
          "base_uri": "https://localhost:8080/"
        },
        "id": "LyImf5BfQPDg",
        "outputId": "d7cef77b-4560-4740-8b83-6396581283c4"
      },
      "execution_count": 143,
      "outputs": [
        {
          "output_type": "stream",
          "name": "stdout",
          "text": [
            "TRAIN DATA :  (1563, 64)  TEST DATA:  (234, 64)\n",
            "TRAIN DATA (y) :  (1563, 1)  TEST DATA (y):  (234, 1)\n"
          ]
        }
      ]
    },
    {
      "cell_type": "markdown",
      "source": [
        "# SUPPORT VECTOR MACHINES"
      ],
      "metadata": {
        "id": "q2BRuiqo95nz"
      }
    },
    {
      "cell_type": "code",
      "source": [
        "from sklearn import svm\n",
        "\n",
        "#Create a svm Classifier\n",
        "clf = svm.SVC(kernel='linear') # Linear Kernel\n",
        "\n",
        "#Train the model using the training sets\n",
        "clf.fit(X_train, y_train)\n",
        "\n",
        "#Predict the response for test dataset\n",
        "y_pred = clf.predict(X_test)"
      ],
      "metadata": {
        "colab": {
          "base_uri": "https://localhost:8080/"
        },
        "id": "GsLEYCGcREvX",
        "outputId": "bac4b2d5-7062-4c6d-94f8-67d3841b8fee"
      },
      "execution_count": 144,
      "outputs": [
        {
          "output_type": "stream",
          "name": "stderr",
          "text": [
            "/usr/local/lib/python3.7/dist-packages/sklearn/utils/validation.py:985: DataConversionWarning: A column-vector y was passed when a 1d array was expected. Please change the shape of y to (n_samples, ), for example using ravel().\n",
            "  y = column_or_1d(y, warn=True)\n"
          ]
        }
      ]
    },
    {
      "cell_type": "markdown",
      "source": [
        "***MODEL EVALUATION METRICS***"
      ],
      "metadata": {
        "id": "3spawEo_-Z6w"
      }
    },
    {
      "cell_type": "code",
      "source": [
        "from sklearn import metrics\n",
        "\n",
        "precision = [metrics.precision_score(y_test, y_pred, average='weighted')*100.0]\n",
        "print(\"Precision:\",precision)\n",
        "\n",
        "recall = [metrics.recall_score(y_test, y_pred,average='weighted')*100.0]\n",
        "print(\"Recall:\", recall)\n",
        "\n",
        "accuracy = [metrics.accuracy_score(y_test, y_pred)*100.0]\n",
        "print(\"Accuracy:\",accuracy)\n",
        "\n"
      ],
      "metadata": {
        "colab": {
          "base_uri": "https://localhost:8080/"
        },
        "id": "j1jvW2tNX5C7",
        "outputId": "88065ea5-6f10-4178-f571-2f96fbee84be"
      },
      "execution_count": 145,
      "outputs": [
        {
          "output_type": "stream",
          "name": "stdout",
          "text": [
            "Precision: [97.9204822954823]\n",
            "Recall: [97.86324786324786]\n",
            "Accuracy: [97.86324786324786]\n"
          ]
        }
      ]
    },
    {
      "cell_type": "markdown",
      "source": [
        "# MULTICLASS LOGISTIC REGRESSION"
      ],
      "metadata": {
        "id": "eWMyW5wHBLdB"
      }
    },
    {
      "cell_type": "code",
      "source": [
        "\n",
        "from sklearn import linear_model\n",
        "lm = linear_model.LogisticRegression(multi_class='ovr', solver='liblinear')\n",
        "lm.fit(X_train, y_train)\n",
        "y_pred1 = lm.predict(X_test)"
      ],
      "metadata": {
        "colab": {
          "base_uri": "https://localhost:8080/"
        },
        "id": "NPOe-p9oY_rJ",
        "outputId": "c16977a1-4724-44da-81e0-66ecaad27d99"
      },
      "execution_count": 146,
      "outputs": [
        {
          "output_type": "stream",
          "name": "stderr",
          "text": [
            "/usr/local/lib/python3.7/dist-packages/sklearn/utils/validation.py:985: DataConversionWarning: A column-vector y was passed when a 1d array was expected. Please change the shape of y to (n_samples, ), for example using ravel().\n",
            "  y = column_or_1d(y, warn=True)\n"
          ]
        }
      ]
    },
    {
      "cell_type": "markdown",
      "source": [
        "***MODEL EVALUATION METRICS***"
      ],
      "metadata": {
        "id": "c7eUUJO64bfW"
      }
    },
    {
      "cell_type": "code",
      "source": [
        "\n",
        "from sklearn import metrics\n",
        "\n",
        "# Model Precision: what percentage of positive tuples are labeled as such?\n",
        "print(\"Precision:\",metrics.precision_score(y_test, y_pred1, average='weighted')*100.0)\n",
        "\n",
        "# Model Recall: what percentage of positive tuples are labelled as such?\n",
        "print(\"Recall:\",metrics.recall_score(y_test, y_pred1,average='weighted')*100.0)\n",
        "\n",
        "# Model Accuracy: how often is the classifier correct?\n",
        "print(\"Accuracy:\",metrics.accuracy_score(y_test, y_pred1)*100.0)\n",
        "\n",
        "precision.append(metrics.precision_score(y_test, y_pred1, average='weighted')*100.0)\n",
        "recall.append(metrics.recall_score(y_test, y_pred1,average='weighted')*100.0)\n",
        "accuracy.append(metrics.accuracy_score(y_test, y_pred1)*100.0)"
      ],
      "metadata": {
        "colab": {
          "base_uri": "https://localhost:8080/"
        },
        "id": "e1FzUolx6nK5",
        "outputId": "ef4c2eba-9a66-44d1-c5e0-61741d4a0146"
      },
      "execution_count": 147,
      "outputs": [
        {
          "output_type": "stream",
          "name": "stdout",
          "text": [
            "Precision: 97.27624139022608\n",
            "Recall: 97.00854700854701\n",
            "Accuracy: 97.00854700854701\n"
          ]
        }
      ]
    },
    {
      "cell_type": "code",
      "source": [
        ""
      ],
      "metadata": {
        "id": "dpjO6Uo80gko"
      },
      "execution_count": 147,
      "outputs": []
    },
    {
      "cell_type": "markdown",
      "source": [
        "# MULTINOMIAL NAIVE BAYES CLASSIFIER"
      ],
      "metadata": {
        "id": "fa7ldydPiuYl"
      }
    },
    {
      "cell_type": "code",
      "source": [
        "from sklearn.naive_bayes import GaussianNB\n",
        "\n",
        "#Create a Gaussian Classifier\n",
        "gnb = GaussianNB()\n",
        "\n",
        "#Train the model using the training sets\n",
        "gnb.fit(X_train, y_train)\n",
        "\n",
        "#Predict the response for test dataset\n",
        "y_pred2 = gnb.predict(X_test)"
      ],
      "metadata": {
        "id": "q0iu43YRVC6O",
        "colab": {
          "base_uri": "https://localhost:8080/"
        },
        "outputId": "120bc536-76d6-4af5-edba-fb56d74ae6f2"
      },
      "execution_count": 148,
      "outputs": [
        {
          "output_type": "stream",
          "name": "stderr",
          "text": [
            "/usr/local/lib/python3.7/dist-packages/sklearn/utils/validation.py:985: DataConversionWarning: A column-vector y was passed when a 1d array was expected. Please change the shape of y to (n_samples, ), for example using ravel().\n",
            "  y = column_or_1d(y, warn=True)\n"
          ]
        }
      ]
    },
    {
      "cell_type": "markdown",
      "source": [
        "***MODEL EVALUATION METRICS***"
      ],
      "metadata": {
        "id": "lMDnEAYj4d79"
      }
    },
    {
      "cell_type": "code",
      "source": [
        "from sklearn import metrics\n",
        "\n",
        "print(\"Precision:\",metrics.precision_score(y_test, y_pred2, average='weighted')*100.0)\n",
        "\n",
        "print(\"Recall:\",metrics.recall_score(y_test, y_pred2,average='weighted')*100.0)\n",
        "\n",
        "print(\"Accuracy:\",metrics.accuracy_score(y_test, y_pred2)*100.0)\n",
        "\n",
        "precision.append(metrics.precision_score(y_test, y_pred2, average='weighted')*100.0)\n",
        "recall.append(metrics.recall_score(y_test, y_pred2,average='weighted')*100.0)\n",
        "accuracy.append(metrics.accuracy_score(y_test, y_pred2)*100.0)\n",
        "\n"
      ],
      "metadata": {
        "colab": {
          "base_uri": "https://localhost:8080/"
        },
        "id": "CAZo5Z9Mi0Kk",
        "outputId": "a94f22cc-18ef-4627-a3ad-95e8223ec77c"
      },
      "execution_count": 149,
      "outputs": [
        {
          "output_type": "stream",
          "name": "stdout",
          "text": [
            "Precision: 89.13470699869167\n",
            "Recall: 85.47008547008546\n",
            "Accuracy: 85.47008547008546\n"
          ]
        }
      ]
    },
    {
      "cell_type": "code",
      "source": [
        ""
      ],
      "metadata": {
        "id": "X0pXIsMr2Tri"
      },
      "execution_count": 149,
      "outputs": []
    },
    {
      "cell_type": "markdown",
      "source": [
        "# USING RANDOM FORESTS"
      ],
      "metadata": {
        "id": "8YgpgoDZjCaM"
      }
    },
    {
      "cell_type": "code",
      "source": [
        "from sklearn.ensemble import RandomForestClassifier\n",
        "\n",
        "#Create a Gaussian Classifier\n",
        "clf=RandomForestClassifier(n_estimators=100)\n",
        "\n",
        "#Train the model using the training sets y_pred=clf.predict(X_test)\n",
        "clf.fit(X_train,y_train)\n",
        "\n",
        "y_pred3=clf.predict(X_test)"
      ],
      "metadata": {
        "colab": {
          "base_uri": "https://localhost:8080/"
        },
        "id": "EuvLaGfnjFPt",
        "outputId": "2bb72e2e-1bb2-45f9-cde2-9b5e6b34c44f"
      },
      "execution_count": 150,
      "outputs": [
        {
          "output_type": "stream",
          "name": "stderr",
          "text": [
            "/usr/local/lib/python3.7/dist-packages/ipykernel_launcher.py:7: DataConversionWarning: A column-vector y was passed when a 1d array was expected. Please change the shape of y to (n_samples,), for example using ravel().\n",
            "  import sys\n"
          ]
        }
      ]
    },
    {
      "cell_type": "markdown",
      "source": [
        "***MODEL EVALUATION METRICS***"
      ],
      "metadata": {
        "id": "GKd8AM8Z4g0m"
      }
    },
    {
      "cell_type": "code",
      "source": [
        "from sklearn import metrics\n",
        "\n",
        "# Model Precision: what percentage of positive tuples are labeled as such?\n",
        "print(\"Precision:\",metrics.precision_score(y_test, y_pred3, average='weighted')*100.0)\n",
        "\n",
        "# Model Recall: what percentage of positive tuples are labelled as such?\n",
        "print(\"Recall:\",metrics.recall_score(y_test, y_pred3 ,average='weighted')*100.0)\n",
        "\n",
        "# Model Accuracy: how often is the classifier correct?\n",
        "print(\"Accuracy:\",metrics.accuracy_score(y_test, y_pred3)*100.0)\n",
        "\n",
        "precision.append(metrics.precision_score(y_test, y_pred3, average='weighted')*100.0)\n",
        "recall.append(metrics.recall_score(y_test, y_pred3 ,average='weighted')*100.0)\n",
        "accuracy.append(metrics.accuracy_score(y_test, y_pred3)*100.0)"
      ],
      "metadata": {
        "colab": {
          "base_uri": "https://localhost:8080/"
        },
        "id": "QkWrAPjnjxtA",
        "outputId": "e6f9b24f-1d47-4b7d-8d99-51560b9c5288"
      },
      "execution_count": 151,
      "outputs": [
        {
          "output_type": "stream",
          "name": "stdout",
          "text": [
            "Precision: 97.91641229141229\n",
            "Recall: 97.86324786324786\n",
            "Accuracy: 97.86324786324786\n"
          ]
        }
      ]
    },
    {
      "cell_type": "markdown",
      "source": [
        "# K - NEAREST NEIGHBORS"
      ],
      "metadata": {
        "id": "F6JAs3FF2fu7"
      }
    },
    {
      "cell_type": "code",
      "source": [
        "from sklearn.neighbors import KNeighborsClassifier\n",
        "\n",
        "model = KNeighborsClassifier(n_neighbors=3)\n",
        "\n",
        "# Train the model using the training sets\n",
        "model.fit(X_train,y_train)\n",
        "\n",
        "#Predict Output\n",
        "y_pred4 = model.predict(X_test) # 0:Overcast, 2:Mild"
      ],
      "metadata": {
        "colab": {
          "base_uri": "https://localhost:8080/"
        },
        "id": "oYj1gyKVj1rp",
        "outputId": "64f75fa4-9d8e-4e81-deeb-b0e540c0e922"
      },
      "execution_count": 152,
      "outputs": [
        {
          "output_type": "stream",
          "name": "stderr",
          "text": [
            "/usr/local/lib/python3.7/dist-packages/sklearn/neighbors/_classification.py:198: DataConversionWarning: A column-vector y was passed when a 1d array was expected. Please change the shape of y to (n_samples,), for example using ravel().\n",
            "  return self._fit(X, y)\n"
          ]
        }
      ]
    },
    {
      "cell_type": "markdown",
      "source": [
        "***MODEL EVALUATION METRICS***"
      ],
      "metadata": {
        "id": "uLdJaOi_4im0"
      }
    },
    {
      "cell_type": "code",
      "source": [
        "from sklearn import metrics\n",
        "\n",
        "# Model Precision: what percentage of positive tuples are labeled as such?\n",
        "print(\"Precision:\",metrics.precision_score(y_test, y_pred4, average='weighted')*100.0)\n",
        "\n",
        "# Model Recall: what percentage of positive tuples are labelled as such?\n",
        "print(\"Recall:\",metrics.recall_score(y_test, y_pred4,average='weighted')*100.0)\n",
        "\n",
        "# Model Accuracy: how often is the classifier correct?\n",
        "print(\"Accuracy:\",metrics.accuracy_score(y_test, y_pred4)*100.0)\n",
        "\n",
        "precision.append(metrics.precision_score(y_test, y_pred4, average='weighted')*100.0)\n",
        "recall.append(metrics.recall_score(y_test, y_pred4,average='weighted')*100.0)\n",
        "accuracy.append(metrics.accuracy_score(y_test, y_pred4)*100.0)"
      ],
      "metadata": {
        "colab": {
          "base_uri": "https://localhost:8080/"
        },
        "id": "AMELPhAR2r_5",
        "outputId": "3ffe25ad-1fe5-46bf-8b77-752dac18affa"
      },
      "execution_count": 153,
      "outputs": [
        {
          "output_type": "stream",
          "name": "stdout",
          "text": [
            "Precision: 98.33385314363574\n",
            "Recall: 98.29059829059828\n",
            "Accuracy: 98.29059829059828\n"
          ]
        }
      ]
    },
    {
      "cell_type": "markdown",
      "source": [
        "# VISUALIZING MODEL PERFOMRNACE"
      ],
      "metadata": {
        "id": "RKWbjCqb4ld7"
      }
    },
    {
      "cell_type": "code",
      "source": [
        "sns.barplot(x = [\"SVM\", \"LOG. REGRESSION\", \"NAIVE BAYES\", \"RANDOM FORESTS\", \"KNN\"], y = precision)\n",
        "plt.plot(precision, marker = \"o\", color = \"black\")\n",
        "plt. xticks(rotation=90)\n",
        "plt.xlabel(\"MODEL NAME\", color = \"blue\", fontsize = 14)\n",
        "plt.ylabel(\"PRECISION VALUES\", color = \"blue\", fontsize = 14)\n",
        "plt.title(\"BAR GRAPH SHOWING PRECISION OF VARIOUS MODELS\", fontweight = \"bold\", fontsize = 14);"
      ],
      "metadata": {
        "colab": {
          "base_uri": "https://localhost:8080/",
          "height": 384
        },
        "id": "E4TzeYHR4lLO",
        "outputId": "fe9ba501-7b91-48c4-cc54-f43a893a0317"
      },
      "execution_count": 154,
      "outputs": [
        {
          "output_type": "display_data",
          "data": {
            "image/png": "[encoded data removed]",
            "text/plain": [
              "<Figure size 432x288 with 1 Axes>"
            ]
          },
          "metadata": {
            "needs_background": "light"
          }
        }
      ]
    },
    {
      "cell_type": "code",
      "source": [
        "sns.barplot(x = [\"SVM\", \"LOG. REGRESSION\", \"NAIVE BAYES\", \"RANDOM FORESTS\", \"KNN\"], y = recall)\n",
        "plt.plot(recall, marker = \"o\", color = \"black\")\n",
        "plt.xticks(rotation=90)\n",
        "plt.xlabel(\"MODEL NAME\", color = \"blue\", fontsize = 14)\n",
        "plt.ylabel(\"RECALL VALUES\", color = \"blue\", fontsize = 14)\n",
        "plt.title(\"BAR GRAPH SHOWING RECALL OF VARIOUS MODELS\", fontweight = \"bold\", fontsize = 14);"
      ],
      "metadata": {
        "colab": {
          "base_uri": "https://localhost:8080/",
          "height": 384
        },
        "id": "lYlXEKcp3IdD",
        "outputId": "fd84892f-b4ba-4041-a298-be13bfe7804b"
      },
      "execution_count": 155,
      "outputs": [
        {
          "output_type": "display_data",
          "data": {
            "image/png": "[encoded data removed]",
            "text/plain": [
              "<Figure size 432x288 with 1 Axes>"
            ]
          },
          "metadata": {
            "needs_background": "light"
          }
        }
      ]
    },
    {
      "cell_type": "code",
      "source": [
        "sns.barplot(x = [\"SVM\", \"LOG. REGRESSION\", \"NAIVE BAYES\", \"RANDOM FORESTS\", \"KNN\"], y = accuracy)\n",
        "plt.plot(recall, marker = \"o\", color = \"black\")\n",
        "plt. xticks(rotation=90)\n",
        "plt.xlabel(\"MODEL NAME\", color = \"blue\", fontsize = 14)\n",
        "plt.ylabel(\"ACCURACY VALUES\", color = \"blue\", fontsize = 14)\n",
        "plt.title(\"BAR GRAPH SHOWING ACCURACY OF VARIOUS MODELS\", fontweight = \"bold\", fontsize = 14);"
      ],
      "metadata": {
        "colab": {
          "base_uri": "https://localhost:8080/",
          "height": 384
        },
        "id": "dRZMqE6E8ajl",
        "outputId": "5cb3adaf-4866-4683-e503-20664523356f"
      },
      "execution_count": 156,
      "outputs": [
        {
          "output_type": "display_data",
          "data": {
            "image/png": "[encoded data removed]",
            "text/plain": [
              "<Figure size 432x288 with 1 Axes>"
            ]
          },
          "metadata": {
            "needs_background": "light"
          }
        }
      ]
    },
    {
      "cell_type": "markdown",
      "source": [
        "The  visualizations show that all of the models performed exceptionally well for making predictions. Such high metrics are due because the dataset we obtained was already cleaned and properly formatted. As such there were no discrepancies in the model. In real-life scenarios, following problems could hamper model performance:\n",
        "*   Skewed data\n",
        "*   Redundant features\n",
        "*   Missing values\n",
        "*   Incorrect format\n",
        "\n",
        "The only model that performed less efficiently was Naive Bayes' classifier, while SVM, logistic regression, random forests, and KNN performed exceptionally well.\n",
        "\n",
        "One problem with this dataset is that it is relatively small. As such, we had a smaller testing data. If there was a larger test data, there might have been a possibility that the model evaluation metrics might fall down.\n",
        "\n",
        "There can be more improvements done here, for example, we can normalize the data to range the values between 0 to 1. And, of course, we can use neural networks or convolutional neural networks to acheive a much accurate performance.\n",
        "\n",
        "\n",
        "\n"
      ],
      "metadata": {
        "id": "Ymh9Rd5j_T4b"
      }
    }
  ]
}