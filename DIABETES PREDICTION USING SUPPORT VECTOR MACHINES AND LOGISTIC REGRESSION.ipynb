{
 "cells": [
  {
   "cell_type": "markdown",
   "id": "695cfb10",
   "metadata": {},
   "source": [
    "# DIABETES PREDICTION USING LOGISITIC REGRESSION AND SUPPORT VECTOR MACHINE"
   ]
  },
  {
   "cell_type": "code",
   "execution_count": 1,
   "id": "ae9c947b",
   "metadata": {},
   "outputs": [],
   "source": [
    "import numpy  as np\n",
    "import matplotlib.pyplot as plt\n",
    "import seaborn as sns\n",
    "import urllib.request as rq\n",
    "import pandas as pd\n",
    "import sklearn\n",
    "from sklearn.model_selection import train_test_split\n",
    "from sklearn.linear_model import LogisticRegression\n",
    "from sklearn import svm\n",
    "from sklearn import metrics\n",
    "from sklearn.preprocessing import PolynomialFeatures"
   ]
  },
  {
   "cell_type": "code",
   "execution_count": 2,
   "id": "7a4887f3",
   "metadata": {},
   "outputs": [],
   "source": [
    "df = pd.read_csv(\"D:\\DATASETS/diabetes.csv\")\n",
    "pd.set_option(\"display.max_rows\",10)\n"
   ]
  },
  {
   "cell_type": "markdown",
   "id": "b6b0a46e",
   "metadata": {},
   "source": [
    "## DATA PREPROCESSING AND CLEANING"
   ]
  },
  {
   "cell_type": "code",
   "execution_count": 3,
   "id": "45e5190a",
   "metadata": {},
   "outputs": [
    {
     "data": {
      "text/plain": [
       "Pregnancies                 0\n",
       "Glucose                     0\n",
       "BloodPressure               0\n",
       "SkinThickness               0\n",
       "Insulin                     0\n",
       "BMI                         0\n",
       "DiabetesPedigreeFunction    0\n",
       "Age                         0\n",
       "Outcome                     0\n",
       "dtype: int64"
      ]
     },
     "execution_count": 3,
     "metadata": {},
     "output_type": "execute_result"
    }
   ],
   "source": [
    "df.isna().sum()    #No NaN values"
   ]
  },
  {
   "cell_type": "code",
   "execution_count": 4,
   "id": "b17d176a",
   "metadata": {},
   "outputs": [],
   "source": [
    "df = df.replace(' ', np.nan)  # to get rid of empty values"
   ]
  },
  {
   "cell_type": "code",
   "execution_count": 5,
   "id": "c43185a2",
   "metadata": {
    "scrolled": true
   },
   "outputs": [
    {
     "data": {
      "text/html": [
       "<div>\n",
       "<style scoped>\n",
       "    .dataframe tbody tr th:only-of-type {\n",
       "        vertical-align: middle;\n",
       "    }\n",
       "\n",
       "    .dataframe tbody tr th {\n",
       "        vertical-align: top;\n",
       "    }\n",
       "\n",
       "    .dataframe thead th {\n",
       "        text-align: right;\n",
       "    }\n",
       "</style>\n",
       "<table border=\"1\" class=\"dataframe\">\n",
       "  <thead>\n",
       "    <tr style=\"text-align: right;\">\n",
       "      <th></th>\n",
       "      <th>Pregnancies</th>\n",
       "      <th>Glucose</th>\n",
       "      <th>BloodPressure</th>\n",
       "      <th>SkinThickness</th>\n",
       "      <th>Insulin</th>\n",
       "      <th>BMI</th>\n",
       "      <th>DiabetesPedigreeFunction</th>\n",
       "      <th>Age</th>\n",
       "      <th>Outcome</th>\n",
       "    </tr>\n",
       "  </thead>\n",
       "  <tbody>\n",
       "    <tr>\n",
       "      <th>count</th>\n",
       "      <td>768.000000</td>\n",
       "      <td>768.000000</td>\n",
       "      <td>768.000000</td>\n",
       "      <td>768.000000</td>\n",
       "      <td>768.000000</td>\n",
       "      <td>768.000000</td>\n",
       "      <td>768.000000</td>\n",
       "      <td>768.000000</td>\n",
       "      <td>768.000000</td>\n",
       "    </tr>\n",
       "    <tr>\n",
       "      <th>mean</th>\n",
       "      <td>3.845052</td>\n",
       "      <td>120.894531</td>\n",
       "      <td>69.105469</td>\n",
       "      <td>20.536458</td>\n",
       "      <td>79.799479</td>\n",
       "      <td>31.992578</td>\n",
       "      <td>0.471876</td>\n",
       "      <td>33.240885</td>\n",
       "      <td>0.348958</td>\n",
       "    </tr>\n",
       "    <tr>\n",
       "      <th>std</th>\n",
       "      <td>3.369578</td>\n",
       "      <td>31.972618</td>\n",
       "      <td>19.355807</td>\n",
       "      <td>15.952218</td>\n",
       "      <td>115.244002</td>\n",
       "      <td>7.884160</td>\n",
       "      <td>0.331329</td>\n",
       "      <td>11.760232</td>\n",
       "      <td>0.476951</td>\n",
       "    </tr>\n",
       "    <tr>\n",
       "      <th>min</th>\n",
       "      <td>0.000000</td>\n",
       "      <td>0.000000</td>\n",
       "      <td>0.000000</td>\n",
       "      <td>0.000000</td>\n",
       "      <td>0.000000</td>\n",
       "      <td>0.000000</td>\n",
       "      <td>0.078000</td>\n",
       "      <td>21.000000</td>\n",
       "      <td>0.000000</td>\n",
       "    </tr>\n",
       "    <tr>\n",
       "      <th>25%</th>\n",
       "      <td>1.000000</td>\n",
       "      <td>99.000000</td>\n",
       "      <td>62.000000</td>\n",
       "      <td>0.000000</td>\n",
       "      <td>0.000000</td>\n",
       "      <td>27.300000</td>\n",
       "      <td>0.243750</td>\n",
       "      <td>24.000000</td>\n",
       "      <td>0.000000</td>\n",
       "    </tr>\n",
       "    <tr>\n",
       "      <th>50%</th>\n",
       "      <td>3.000000</td>\n",
       "      <td>117.000000</td>\n",
       "      <td>72.000000</td>\n",
       "      <td>23.000000</td>\n",
       "      <td>30.500000</td>\n",
       "      <td>32.000000</td>\n",
       "      <td>0.372500</td>\n",
       "      <td>29.000000</td>\n",
       "      <td>0.000000</td>\n",
       "    </tr>\n",
       "    <tr>\n",
       "      <th>75%</th>\n",
       "      <td>6.000000</td>\n",
       "      <td>140.250000</td>\n",
       "      <td>80.000000</td>\n",
       "      <td>32.000000</td>\n",
       "      <td>127.250000</td>\n",
       "      <td>36.600000</td>\n",
       "      <td>0.626250</td>\n",
       "      <td>41.000000</td>\n",
       "      <td>1.000000</td>\n",
       "    </tr>\n",
       "    <tr>\n",
       "      <th>max</th>\n",
       "      <td>17.000000</td>\n",
       "      <td>199.000000</td>\n",
       "      <td>122.000000</td>\n",
       "      <td>99.000000</td>\n",
       "      <td>846.000000</td>\n",
       "      <td>67.100000</td>\n",
       "      <td>2.420000</td>\n",
       "      <td>81.000000</td>\n",
       "      <td>1.000000</td>\n",
       "    </tr>\n",
       "  </tbody>\n",
       "</table>\n",
       "</div>"
      ],
      "text/plain": [
       "       Pregnancies     Glucose  BloodPressure  SkinThickness     Insulin  \\\n",
       "count   768.000000  768.000000     768.000000     768.000000  768.000000   \n",
       "mean      3.845052  120.894531      69.105469      20.536458   79.799479   \n",
       "std       3.369578   31.972618      19.355807      15.952218  115.244002   \n",
       "min       0.000000    0.000000       0.000000       0.000000    0.000000   \n",
       "25%       1.000000   99.000000      62.000000       0.000000    0.000000   \n",
       "50%       3.000000  117.000000      72.000000      23.000000   30.500000   \n",
       "75%       6.000000  140.250000      80.000000      32.000000  127.250000   \n",
       "max      17.000000  199.000000     122.000000      99.000000  846.000000   \n",
       "\n",
       "              BMI  DiabetesPedigreeFunction         Age     Outcome  \n",
       "count  768.000000                768.000000  768.000000  768.000000  \n",
       "mean    31.992578                  0.471876   33.240885    0.348958  \n",
       "std      7.884160                  0.331329   11.760232    0.476951  \n",
       "min      0.000000                  0.078000   21.000000    0.000000  \n",
       "25%     27.300000                  0.243750   24.000000    0.000000  \n",
       "50%     32.000000                  0.372500   29.000000    0.000000  \n",
       "75%     36.600000                  0.626250   41.000000    1.000000  \n",
       "max     67.100000                  2.420000   81.000000    1.000000  "
      ]
     },
     "execution_count": 5,
     "metadata": {},
     "output_type": "execute_result"
    }
   ],
   "source": [
    "df.describe()"
   ]
  },
  {
   "cell_type": "markdown",
   "id": "5c016405",
   "metadata": {},
   "source": [
    "**We can see that there is a wide range of values in BloodPressure, BMI, Insulin, Age so it would be a good idea to normalize these features later on before building a model**"
   ]
  },
  {
   "cell_type": "code",
   "execution_count": 6,
   "id": "02180692",
   "metadata": {},
   "outputs": [
    {
     "data": {
      "text/html": [
       "<div>\n",
       "<style scoped>\n",
       "    .dataframe tbody tr th:only-of-type {\n",
       "        vertical-align: middle;\n",
       "    }\n",
       "\n",
       "    .dataframe tbody tr th {\n",
       "        vertical-align: top;\n",
       "    }\n",
       "\n",
       "    .dataframe thead th {\n",
       "        text-align: right;\n",
       "    }\n",
       "</style>\n",
       "<table border=\"1\" class=\"dataframe\">\n",
       "  <thead>\n",
       "    <tr style=\"text-align: right;\">\n",
       "      <th></th>\n",
       "      <th>Pregnancies</th>\n",
       "      <th>Glucose</th>\n",
       "      <th>BloodPressure</th>\n",
       "      <th>SkinThickness</th>\n",
       "      <th>Insulin</th>\n",
       "      <th>BMI</th>\n",
       "      <th>DiabetesPedigreeFunction</th>\n",
       "      <th>Age</th>\n",
       "      <th>Outcome</th>\n",
       "    </tr>\n",
       "  </thead>\n",
       "  <tbody>\n",
       "    <tr>\n",
       "      <th>Pregnancies</th>\n",
       "      <td>1.000000</td>\n",
       "      <td>0.129459</td>\n",
       "      <td>0.141282</td>\n",
       "      <td>-0.081672</td>\n",
       "      <td>-0.073535</td>\n",
       "      <td>0.017683</td>\n",
       "      <td>-0.033523</td>\n",
       "      <td>0.544341</td>\n",
       "      <td>0.221898</td>\n",
       "    </tr>\n",
       "    <tr>\n",
       "      <th>Glucose</th>\n",
       "      <td>0.129459</td>\n",
       "      <td>1.000000</td>\n",
       "      <td>0.152590</td>\n",
       "      <td>0.057328</td>\n",
       "      <td>0.331357</td>\n",
       "      <td>0.221071</td>\n",
       "      <td>0.137337</td>\n",
       "      <td>0.263514</td>\n",
       "      <td>0.466581</td>\n",
       "    </tr>\n",
       "    <tr>\n",
       "      <th>BloodPressure</th>\n",
       "      <td>0.141282</td>\n",
       "      <td>0.152590</td>\n",
       "      <td>1.000000</td>\n",
       "      <td>0.207371</td>\n",
       "      <td>0.088933</td>\n",
       "      <td>0.281805</td>\n",
       "      <td>0.041265</td>\n",
       "      <td>0.239528</td>\n",
       "      <td>0.065068</td>\n",
       "    </tr>\n",
       "    <tr>\n",
       "      <th>SkinThickness</th>\n",
       "      <td>-0.081672</td>\n",
       "      <td>0.057328</td>\n",
       "      <td>0.207371</td>\n",
       "      <td>1.000000</td>\n",
       "      <td>0.436783</td>\n",
       "      <td>0.392573</td>\n",
       "      <td>0.183928</td>\n",
       "      <td>-0.113970</td>\n",
       "      <td>0.074752</td>\n",
       "    </tr>\n",
       "    <tr>\n",
       "      <th>Insulin</th>\n",
       "      <td>-0.073535</td>\n",
       "      <td>0.331357</td>\n",
       "      <td>0.088933</td>\n",
       "      <td>0.436783</td>\n",
       "      <td>1.000000</td>\n",
       "      <td>0.197859</td>\n",
       "      <td>0.185071</td>\n",
       "      <td>-0.042163</td>\n",
       "      <td>0.130548</td>\n",
       "    </tr>\n",
       "    <tr>\n",
       "      <th>BMI</th>\n",
       "      <td>0.017683</td>\n",
       "      <td>0.221071</td>\n",
       "      <td>0.281805</td>\n",
       "      <td>0.392573</td>\n",
       "      <td>0.197859</td>\n",
       "      <td>1.000000</td>\n",
       "      <td>0.140647</td>\n",
       "      <td>0.036242</td>\n",
       "      <td>0.292695</td>\n",
       "    </tr>\n",
       "    <tr>\n",
       "      <th>DiabetesPedigreeFunction</th>\n",
       "      <td>-0.033523</td>\n",
       "      <td>0.137337</td>\n",
       "      <td>0.041265</td>\n",
       "      <td>0.183928</td>\n",
       "      <td>0.185071</td>\n",
       "      <td>0.140647</td>\n",
       "      <td>1.000000</td>\n",
       "      <td>0.033561</td>\n",
       "      <td>0.173844</td>\n",
       "    </tr>\n",
       "    <tr>\n",
       "      <th>Age</th>\n",
       "      <td>0.544341</td>\n",
       "      <td>0.263514</td>\n",
       "      <td>0.239528</td>\n",
       "      <td>-0.113970</td>\n",
       "      <td>-0.042163</td>\n",
       "      <td>0.036242</td>\n",
       "      <td>0.033561</td>\n",
       "      <td>1.000000</td>\n",
       "      <td>0.238356</td>\n",
       "    </tr>\n",
       "    <tr>\n",
       "      <th>Outcome</th>\n",
       "      <td>0.221898</td>\n",
       "      <td>0.466581</td>\n",
       "      <td>0.065068</td>\n",
       "      <td>0.074752</td>\n",
       "      <td>0.130548</td>\n",
       "      <td>0.292695</td>\n",
       "      <td>0.173844</td>\n",
       "      <td>0.238356</td>\n",
       "      <td>1.000000</td>\n",
       "    </tr>\n",
       "  </tbody>\n",
       "</table>\n",
       "</div>"
      ],
      "text/plain": [
       "                          Pregnancies   Glucose  BloodPressure  SkinThickness  \\\n",
       "Pregnancies                  1.000000  0.129459       0.141282      -0.081672   \n",
       "Glucose                      0.129459  1.000000       0.152590       0.057328   \n",
       "BloodPressure                0.141282  0.152590       1.000000       0.207371   \n",
       "SkinThickness               -0.081672  0.057328       0.207371       1.000000   \n",
       "Insulin                     -0.073535  0.331357       0.088933       0.436783   \n",
       "BMI                          0.017683  0.221071       0.281805       0.392573   \n",
       "DiabetesPedigreeFunction    -0.033523  0.137337       0.041265       0.183928   \n",
       "Age                          0.544341  0.263514       0.239528      -0.113970   \n",
       "Outcome                      0.221898  0.466581       0.065068       0.074752   \n",
       "\n",
       "                           Insulin       BMI  DiabetesPedigreeFunction  \\\n",
       "Pregnancies              -0.073535  0.017683                 -0.033523   \n",
       "Glucose                   0.331357  0.221071                  0.137337   \n",
       "BloodPressure             0.088933  0.281805                  0.041265   \n",
       "SkinThickness             0.436783  0.392573                  0.183928   \n",
       "Insulin                   1.000000  0.197859                  0.185071   \n",
       "BMI                       0.197859  1.000000                  0.140647   \n",
       "DiabetesPedigreeFunction  0.185071  0.140647                  1.000000   \n",
       "Age                      -0.042163  0.036242                  0.033561   \n",
       "Outcome                   0.130548  0.292695                  0.173844   \n",
       "\n",
       "                               Age   Outcome  \n",
       "Pregnancies               0.544341  0.221898  \n",
       "Glucose                   0.263514  0.466581  \n",
       "BloodPressure             0.239528  0.065068  \n",
       "SkinThickness            -0.113970  0.074752  \n",
       "Insulin                  -0.042163  0.130548  \n",
       "BMI                       0.036242  0.292695  \n",
       "DiabetesPedigreeFunction  0.033561  0.173844  \n",
       "Age                       1.000000  0.238356  \n",
       "Outcome                   0.238356  1.000000  "
      ]
     },
     "execution_count": 6,
     "metadata": {},
     "output_type": "execute_result"
    }
   ],
   "source": [
    "df.corr()   #checking for correlations"
   ]
  },
  {
   "cell_type": "markdown",
   "id": "33b19fbd",
   "metadata": {},
   "source": [
    "**From the above correlation dataframe, it shows that blood pressure, skin thickness, insulin, and DiabetesPedigreeFunction are not good predictors of the outcome variable. We will first test our model using only the highly correlated features, and then run the model with all of the features and compare the accuracies and F1-scores.**"
   ]
  },
  {
   "cell_type": "code",
   "execution_count": 7,
   "id": "44bcea12",
   "metadata": {},
   "outputs": [],
   "source": [
    "high_features=[\"Pregnancies\", \"Glucose\", \"BMI\", \"Age\", \"BloodPressure\"]   #features with a high correlation with the outcome variable\n",
    "all_features=[df.columns]"
   ]
  },
  {
   "cell_type": "code",
   "execution_count": 8,
   "id": "2cc60b95",
   "metadata": {
    "scrolled": true
   },
   "outputs": [
    {
     "data": {
      "image/png": "[encoded data removed]",
      "text/plain": [
       "<Figure size 432x288 with 1 Axes>"
      ]
     },
     "metadata": {
      "needs_background": "light"
     },
     "output_type": "display_data"
    }
   ],
   "source": [
    "sns.countplot(x=df[\"Outcome\"], palette=\"hls\");  #checking for balanced exxamples in dataset\n",
    "plt.title(\"A bit unbalanced but ok for now!\", color = \"crimson\");"
   ]
  },
  {
   "cell_type": "code",
   "execution_count": 9,
   "id": "e9327e1e",
   "metadata": {},
   "outputs": [
    {
     "name": "stdout",
     "output_type": "stream",
     "text": [
      "The percentage of positive examples are 65.10416666666666% and that of negative examples is 34.89583333333333%.\n"
     ]
    }
   ],
   "source": [
    "sum = df['Outcome'].value_counts()\n",
    "pos_percent = (sum[0] / (sum[0]+sum[1]))*100\n",
    "neg_percent = (sum[1] / (sum[0]+sum[1]))*100\n",
    "print(f\"The percentage of positive examples are {pos_percent}% and that of negative examples is {neg_percent}%.\")"
   ]
  },
  {
   "cell_type": "markdown",
   "id": "c900a721",
   "metadata": {},
   "source": [
    "## FREQUENCY DISTRIBUTIONS"
   ]
  },
  {
   "cell_type": "code",
   "execution_count": 10,
   "id": "4c679d55",
   "metadata": {},
   "outputs": [
    {
     "data": {
      "image/png": "[encoded data removed]",
      "text/plain": [
       "<Figure size 1440x1440 with 8 Axes>"
      ]
     },
     "metadata": {
      "needs_background": "light"
     },
     "output_type": "display_data"
    }
   ],
   "source": [
    "l = list(df.columns)\n",
    "f = plt.figure(figsize=(20,20))\n",
    "\n",
    "plt.subplot(3, 3, 1)\n",
    "plt.hist(df[l[0]])\n",
    "plt.title(\"FREQUENCY DISTRIBUTION OF 'PREGNANCIES FEATURE'\")\n",
    "\n",
    "plt.subplot(3, 3, 2)\n",
    "plt.hist(df[l[1]])\n",
    "plt.title(\"FREQUENCY DISTRIBUTION OF 'GLUCOSE FEATURE'\")\n",
    "\n",
    "\n",
    "plt.subplot(3, 3, 3)\n",
    "plt.hist(df[l[2]])\n",
    "plt.title(\"FREQUENCY DISTRIBUTION OF 'BLOOD PRESSURE FEATURE'\")\n",
    "\n",
    "\n",
    "plt.subplot(3, 3, 4)\n",
    "plt.hist(df[l[3]])\n",
    "plt.title(\"FREQUENCY DISTRIBUTION OF 'SKIN THICKNESS FEATURE'\")\n",
    "\n",
    "plt.subplot(3, 3, 5)\n",
    "plt.hist(df[l[4]])\n",
    "plt.title(\"FREQUENCY DISTRIBUTION OF 'INSULIN FEATURE'\")\n",
    "\n",
    "\n",
    "plt.subplot(3, 3, 6)\n",
    "plt.hist(df[l[5]])\n",
    "plt.title(\"FREQUENCY DISTRIBUTION OF 'BMI FEATURE'\")\n",
    "\n",
    "plt.subplot(3, 3, 7)\n",
    "plt.hist(df[l[6]])\n",
    "plt.title(\"FREQUENCY DISTRIBUTION OF 'DIABETES FUNCTION FEATURE'\")\n",
    "\n",
    "plt.subplot(3, 3, 8)\n",
    "plt.hist(df[l[7]])\n",
    "plt.title(\"FREQUENCY DISTRIBUTION OF 'AGE FEATURE'\");\n",
    "\n",
    "\n",
    "\n",
    "\n",
    "\n"
   ]
  },
  {
   "cell_type": "markdown",
   "id": "ff66e909",
   "metadata": {},
   "source": [
    "## DEEP-DIVE INTO THE AGE FEATURE"
   ]
  },
  {
   "cell_type": "code",
   "execution_count": 11,
   "id": "b44b173f",
   "metadata": {},
   "outputs": [
    {
     "data": {
      "image/png": "[encoded data removed]",
      "text/plain": [
       "<Figure size 720x720 with 1 Axes>"
      ]
     },
     "metadata": {
      "needs_background": "light"
     },
     "output_type": "display_data"
    }
   ],
   "source": [
    "f = plt.figure(figsize=(10,10))\n",
    "\n",
    "n, bins, patches = plt.hist(df[l[7]], bins=60, facecolor='#2ab0ff', edgecolor='#e0e0e0', linewidth=0.5, alpha=0.7)\n",
    "\n",
    "\n",
    "n = n.astype('int') # it MUST be integer\n",
    "# Good old loop. Choose colormap of your taste\n",
    "for i in range(len(patches)):\n",
    "    patches[i].set_facecolor(plt.cm.viridis(n[i]/max(n)))\n",
    "# Make one bin stand out   \n",
    "patches[1].set_fc('red') # Set color\n",
    "patches[1].set_alpha(1) # Set opacity\n",
    "\n",
    "patches[49].set_fc('red') # Set color\n",
    "patches[49].set_alpha(1) # Set opacity\n",
    "\n",
    "patches[51].set_fc('red') # Set color\n",
    "patches[51].set_alpha(1) # Set opacity\n",
    "\n",
    "patches[59].set_fc('red') # Set color\n",
    "patches[59].set_alpha(1) # Set opacity\n",
    "\n",
    "\n",
    "# Add annotation\n",
    "\n",
    "plt.annotate('Highest number of training records are in the age of about 22-28', xy=(23, 65), xytext=(30, 65), fontsize=8.2, arrowprops={'width':0.1,'headwidth':4,'color':'red'})\n",
    "\n",
    "plt.annotate('Very few data on age 71 and above', xy=(70, 4), xytext=(50, 25), fontsize=8.2, arrowprops={'width':0.1,'headwidth':4,'color':'red'})\n",
    "\n",
    "\n",
    "plt.title('Normal Distribution for Age', fontsize=15, color = \"crimson\")\n",
    "plt.xlabel('Bins', fontsize=10)\n",
    "plt.ylabel('Values', fontsize=10)\n",
    "plt.show()"
   ]
  },
  {
   "cell_type": "code",
   "execution_count": 12,
   "id": "c7cf8104",
   "metadata": {},
   "outputs": [],
   "source": [
    "bins = np.linspace(min(df[\"Age\"]), max(df[\"Age\"]), 4)\n",
    "group_names = ['Young', 'Middle', 'Old']\n",
    "df['age-binned'] = pd.cut(df['Age'], bins, labels=group_names, include_lowest=True )\n"
   ]
  },
  {
   "cell_type": "code",
   "execution_count": 13,
   "id": "806a9f73",
   "metadata": {},
   "outputs": [
    {
     "data": {
      "text/plain": [
       "Young     596\n",
       "Middle    147\n",
       "Old        25\n",
       "Name: age-binned, dtype: int64"
      ]
     },
     "execution_count": 13,
     "metadata": {},
     "output_type": "execute_result"
    }
   ],
   "source": [
    "df['age-binned'].value_counts()"
   ]
  },
  {
   "cell_type": "code",
   "execution_count": 14,
   "id": "0873b568",
   "metadata": {},
   "outputs": [
    {
     "data": {
      "image/png": "[encoded data removed]",
      "text/plain": [
       "<Figure size 432x288 with 1 Axes>"
      ]
     },
     "metadata": {
      "needs_background": "light"
     },
     "output_type": "display_data"
    }
   ],
   "source": [
    "plt.bar(group_names, df[\"age-binned\"].value_counts(), color= \"crimson\")\n",
    "plt.xlabel(\"Age\", color = \"crimson\")\n",
    "plt.ylabel(\"Count\", color =\"crimson\")\n",
    "plt.title(\"Age bar chart\", color = \"blue\", fontsize=15, fontweight= \"bold\");"
   ]
  },
  {
   "cell_type": "markdown",
   "id": "f5ec6860",
   "metadata": {},
   "source": [
    "**It seems that most of the people in the dataset are young while there is a low percentage of old population.**"
   ]
  },
  {
   "cell_type": "markdown",
   "id": "3d9d67ec",
   "metadata": {},
   "source": [
    "## FEATURE NORMALIZATION AND EXTRACTION"
   ]
  },
  {
   "cell_type": "code",
   "execution_count": 15,
   "id": "112927ef",
   "metadata": {},
   "outputs": [],
   "source": [
    "new_df = df.copy()\n",
    "new_df['Glucose'] = new_df['Glucose']/new_df['Glucose'].max()\n",
    "new_df['BMI'] = new_df['BMI']/new_df['BMI'].max()\n",
    "new_df['Age'] = new_df['Age']/new_df['Age'].max()\n",
    "new_df['Insulin'] = new_df['Insulin']/new_df['Insulin'].max()\n",
    "new_df['BloodPressure'] = new_df['BloodPressure']/new_df['BloodPressure'].max()\n",
    "\n"
   ]
  },
  {
   "cell_type": "code",
   "execution_count": 16,
   "id": "aeb2a36e",
   "metadata": {},
   "outputs": [],
   "source": [
    "new_df.drop(columns = ['SkinThickness', 'age-binned'], inplace=True)\n"
   ]
  },
  {
   "cell_type": "markdown",
   "id": "8341bd8d",
   "metadata": {},
   "source": [
    "## LOGISITIC REGRESSION MODEL (ON NORMALIZED FEATURES)"
   ]
  },
  {
   "cell_type": "code",
   "execution_count": null,
   "id": "9b21a90b",
   "metadata": {},
   "outputs": [],
   "source": []
  },
  {
   "cell_type": "code",
   "execution_count": null,
   "id": "599b061c",
   "metadata": {},
   "outputs": [],
   "source": []
  },
  {
   "cell_type": "code",
   "execution_count": null,
   "id": "534c7b59",
   "metadata": {},
   "outputs": [],
   "source": []
  },
  {
   "cell_type": "code",
   "execution_count": null,
   "id": "9b82c5ab",
   "metadata": {},
   "outputs": [],
   "source": []
  },
  {
   "cell_type": "code",
   "execution_count": 28,
   "id": "1756511c",
   "metadata": {
    "scrolled": true
   },
   "outputs": [],
   "source": [
    "xx = np.array(new_df.iloc[:, :7].values)\n",
    "yy = np.array(new_df.iloc[:, 7].values)\n"
   ]
  },
  {
   "cell_type": "code",
   "execution_count": 29,
   "id": "a3ff9ed8",
   "metadata": {},
   "outputs": [],
   "source": [
    "x_train, x_test, y_train, y_test = sklearn.model_selection.train_test_split(xx, yy, test_size=0.20, random_state=42)"
   ]
  },
  {
   "cell_type": "code",
   "execution_count": 30,
   "id": "7fb101af",
   "metadata": {},
   "outputs": [],
   "source": [
    "model1 = LogisticRegression()\n",
    "model1.fit(x_train, y_train)\n",
    "y_pred = model1.predict(x_test)"
   ]
  },
  {
   "cell_type": "code",
   "execution_count": 31,
   "id": "0c6c85df",
   "metadata": {},
   "outputs": [
    {
     "name": "stdout",
     "output_type": "stream",
     "text": [
      "Precision: 0.7906976744186046\n",
      "Recall: 0.6181818181818182\n",
      "Accuracy: 0.8051948051948052\n",
      "F1-Score: 0.693877551020408\n",
      "The R-square is:  0.8051948051948052\n",
      "The mean square error of price and predicted value is:  0.19480519480519481\n"
     ]
    }
   ],
   "source": [
    "print(\"Precision:\",metrics.precision_score(y_test, y_pred))\n",
    "\n",
    "# Model Recall: what percentage of positive tuples are labelled as such?\n",
    "print(\"Recall:\",metrics.recall_score(y_test, y_pred))\n",
    "\n",
    "print(\"Accuracy:\",metrics.accuracy_score(y_test, y_pred))\n",
    "\n",
    "print(\"F1-Score:\",(2*metrics.recall_score(y_test, y_pred)*metrics.precision_score(y_test, y_pred))/(metrics.recall_score(y_test, y_pred)+metrics.precision_score(y_test, y_pred)))\n",
    "\n",
    "print('The R-square is: ', model1.score(x_test, y_test))\n",
    "\n",
    "from sklearn.metrics import mean_squared_error\n",
    "mse = mean_squared_error(y_test, y_pred)\n",
    "print('The mean square error of price and predicted value is: ', mse)"
   ]
  },
  {
   "cell_type": "code",
   "execution_count": 61,
   "id": "e1fb9be7",
   "metadata": {},
   "outputs": [
    {
     "name": "stderr",
     "output_type": "stream",
     "text": [
      "C:\\Users\\moaaz\\anaconda3\\lib\\site-packages\\seaborn\\distributions.py:2619: FutureWarning: `distplot` is a deprecated function and will be removed in a future version. Please adapt your code to use either `displot` (a figure-level function with similar flexibility) or `kdeplot` (an axes-level function for kernel density plots).\n",
      "  warnings.warn(msg, FutureWarning)\n",
      "C:\\Users\\moaaz\\anaconda3\\lib\\site-packages\\seaborn\\distributions.py:2619: FutureWarning: `distplot` is a deprecated function and will be removed in a future version. Please adapt your code to use either `displot` (a figure-level function with similar flexibility) or `kdeplot` (an axes-level function for kernel density plots).\n",
      "  warnings.warn(msg, FutureWarning)\n"
     ]
    },
    {
     "data": {
      "image/png": "[encoded data removed]",
      "text/plain": [
       "<Figure size 936x936 with 1 Axes>"
      ]
     },
     "metadata": {
      "needs_background": "light"
     },
     "output_type": "display_data"
    }
   ],
   "source": [
    "plt.figure(figsize=(13, 13))\n",
    "\n",
    "\n",
    "ax1 = sns.distplot(new_df['Outcome'], hist=False, color=\"r\", label=\"Actual Value\")\n",
    "sns.distplot(y_pred, hist=False, color=\"b\", label=\"Fitted Values\" , ax=ax1)\n",
    "\n",
    "\n",
    "plt.title('Actual vs Fitted Values for Outcome');\n",
    "  #SAME HERE, ALL I KNOW IS THAT TWO CURVES, ONE IS OF ACTUAL VALUE, SECOND IS OF PREDICTED VALUE FROM MY MODEL\n",
    "\n"
   ]
  },
  {
   "cell_type": "markdown",
   "id": "474459ae",
   "metadata": {},
   "source": [
    "## LOGISITIC REGRESSION MODEL (ON RAW DATA WITHOUT NORMALIZATION OR FEATURE SELECTION)\n",
    "\n",
    "**This is a much worse performance, it goes to show how much important it is to normalize and extract important features only.**"
   ]
  },
  {
   "cell_type": "code",
   "execution_count": 64,
   "id": "df65245c",
   "metadata": {},
   "outputs": [
    {
     "name": "stderr",
     "output_type": "stream",
     "text": [
      "C:\\Users\\moaaz\\anaconda3\\lib\\site-packages\\sklearn\\linear_model\\_logistic.py:763: ConvergenceWarning: lbfgs failed to converge (status=1):\n",
      "STOP: TOTAL NO. of ITERATIONS REACHED LIMIT.\n",
      "\n",
      "Increase the number of iterations (max_iter) or scale the data as shown in:\n",
      "    https://scikit-learn.org/stable/modules/preprocessing.html\n",
      "Please also refer to the documentation for alternative solver options:\n",
      "    https://scikit-learn.org/stable/modules/linear_model.html#logistic-regression\n",
      "  n_iter_i = _check_optimize_result(\n"
     ]
    }
   ],
   "source": [
    "X_TRAIN, X_TEST, Y_TRAIN, Y_TEST = train_test_split(df.iloc[:, :8].values, df.iloc[:, 8].values, test_size=0.20, random_state=42)\n",
    "model2 = LogisticRegression()\n",
    "model2.fit(X_TRAIN, Y_TRAIN)\n",
    "y_predict = model2.predict(X_TEST)\n",
    "score2 = model2.score(X_TEST, Y_TEST)\n",
    "\n"
   ]
  },
  {
   "cell_type": "code",
   "execution_count": 65,
   "id": "ef8f8257",
   "metadata": {},
   "outputs": [
    {
     "name": "stdout",
     "output_type": "stream",
     "text": [
      "Precision: 0.6379310344827587\n",
      "Recall: 0.6727272727272727\n",
      "Accuracy: 0.7467532467532467\n",
      "F1-Score: 0.6548672566371682\n",
      "The R-square is:  0.7467532467532467\n",
      "The mean square error of price and predicted value is:  0.2532467532467532\n"
     ]
    }
   ],
   "source": [
    "print(\"Precision:\",metrics.precision_score(Y_TEST, y_predict))\n",
    "\n",
    "# Model Recall: what percentage of positive tuples are labelled as such?\n",
    "print(\"Recall:\",metrics.recall_score(Y_TEST, y_predict))\n",
    "\n",
    "print(\"Accuracy:\",metrics.accuracy_score(Y_TEST, y_predict))\n",
    "\n",
    "print(\"F1-Score:\",(2*metrics.recall_score(Y_TEST, y_predict)*metrics.precision_score(Y_TEST, y_predict))/(metrics.recall_score(Y_TEST, y_predict)+metrics.precision_score(Y_TEST, y_predict)))\n",
    "\n",
    "print('The R-square is: ', model2.score(X_TEST, Y_TEST))\n",
    "\n",
    "from sklearn.metrics import mean_squared_error\n",
    "mse2 = mean_squared_error(Y_TEST, y_predict)\n",
    "print('The mean square error of price and predicted value is: ', mse2)"
   ]
  },
  {
   "cell_type": "markdown",
   "id": "231634d5",
   "metadata": {},
   "source": [
    "## SVM (ON NORMALIZED FEATURES)"
   ]
  },
  {
   "cell_type": "code",
   "execution_count": 40,
   "id": "9525c879",
   "metadata": {},
   "outputs": [],
   "source": [
    "x_train1, x_test1, y_train1, y_test1 = sklearn.model_selection.train_test_split(xx, yy, test_size=0.25, random_state=42)\n",
    "clf = svm.SVC(kernel='linear') # Linear Kernel\n",
    "clf.fit(x_train1, y_train1)\n",
    "y_pred1 = clf.predict(x_test1)"
   ]
  },
  {
   "cell_type": "code",
   "execution_count": 68,
   "id": "e1f5fda3",
   "metadata": {},
   "outputs": [
    {
     "name": "stdout",
     "output_type": "stream",
     "text": [
      "Precision: 0.6612903225806451\n",
      "Recall: 0.5942028985507246\n",
      "Accuracy: 0.7447916666666666\n",
      "F1-Score: 0.6259541984732824\n",
      "The R-square is:  0.7447916666666666\n",
      "The mean square error of price and predicted value is:  0.2552083333333333\n"
     ]
    }
   ],
   "source": [
    "print(\"Precision:\",metrics.precision_score(y_test1, y_pred1))\n",
    "\n",
    "# Model Recall: what percentage of positive tuples are labelled as such?\n",
    "print(\"Recall:\",metrics.recall_score(y_test1, y_pred1))\n",
    "\n",
    "print(\"Accuracy:\",metrics.accuracy_score(y_test1, y_pred1))\n",
    "\n",
    "print(\"F1-Score:\",(2*metrics.recall_score(y_test1, y_pred1)*metrics.precision_score(y_test1, y_pred1))/(metrics.recall_score(y_test1, y_pred1)+metrics.precision_score(y_test1, y_pred1)))\n",
    "\n",
    "print('The R-square is: ', clf.score(x_test1, y_test1))\n",
    "\n",
    "from sklearn.metrics import mean_squared_error\n",
    "mse3 = mean_squared_error(y_test1, y_pred1)\n",
    "print('The mean square error of price and predicted value is: ', mse3)"
   ]
  },
  {
   "cell_type": "markdown",
   "id": "1628ab4d",
   "metadata": {},
   "source": [
    "**Logistic regression with normalized features gives the highest accuracy while SVM performs poorly with the normalized features. Furthermore, training a model with unnormalized features gives a much worse performance. Comparing logistic regression with normalized features and SVM with unnormalized features, the former perform a bit better that the latter. Concluding that logistic regression is much suited for the given dataset**"
   ]
  },
  {
   "cell_type": "code",
   "execution_count": null,
   "id": "da59cb5a",
   "metadata": {},
   "outputs": [],
   "source": []
  },
  {
   "cell_type": "code",
   "execution_count": null,
   "id": "ea045548",
   "metadata": {},
   "outputs": [],
   "source": []
  }
 ],
 "metadata": {
  "kernelspec": {
   "display_name": "Python 3 (ipykernel)",
   "language": "python",
   "name": "python3"
  },
  "language_info": {
   "codemirror_mode": {
    "name": "ipython",
    "version": 3
   },
   "file_extension": ".py",
   "mimetype": "text/x-python",
   "name": "python",
   "nbconvert_exporter": "python",
   "pygments_lexer": "ipython3",
   "version": "3.9.7"
  }
 },
 "nbformat": 4,
 "nbformat_minor": 5
}
