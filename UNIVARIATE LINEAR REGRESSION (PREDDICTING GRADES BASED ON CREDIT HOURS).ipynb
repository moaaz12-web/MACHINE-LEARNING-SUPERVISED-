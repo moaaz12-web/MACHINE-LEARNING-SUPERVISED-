{
 "cells": [
  {
   "cell_type": "code",
   "execution_count": 2,
   "id": "f0dc4f83",
   "metadata": {},
   "outputs": [],
   "source": [
    "import numpy  as np\n",
    "import matplotlib.pyplot as plt\n",
    "import seaborn as sns\n",
    "import urllib.request as rq\n",
    "import pandas as pd"
   ]
  },
  {
   "cell_type": "code",
   "execution_count": 9,
   "id": "62265735",
   "metadata": {},
   "outputs": [
    {
     "data": {
      "text/plain": [
       "(2, 25)"
      ]
     },
     "execution_count": 9,
     "metadata": {},
     "output_type": "execute_result"
    }
   ],
   "source": [
    "(x.T).shape"
   ]
  },
  {
   "cell_type": "code",
   "execution_count": 10,
   "id": "d7e9ab8b",
   "metadata": {},
   "outputs": [
    {
     "data": {
      "text/plain": [
       "array([[1. , 2.5],\n",
       "       [1. , 5.1],\n",
       "       [1. , 3.2],\n",
       "       [1. , 8.5],\n",
       "       [1. , 3.5],\n",
       "       [1. , 1.5],\n",
       "       [1. , 9.2],\n",
       "       [1. , 5.5],\n",
       "       [1. , 8.3],\n",
       "       [1. , 2.7],\n",
       "       [1. , 7.7],\n",
       "       [1. , 5.9],\n",
       "       [1. , 4.5],\n",
       "       [1. , 3.3],\n",
       "       [1. , 1.1],\n",
       "       [1. , 8.9],\n",
       "       [1. , 2.5],\n",
       "       [1. , 1.9],\n",
       "       [1. , 6.1],\n",
       "       [1. , 7.4],\n",
       "       [1. , 2.7],\n",
       "       [1. , 4.8],\n",
       "       [1. , 3.8],\n",
       "       [1. , 6.9],\n",
       "       [1. , 7.8]])"
      ]
     },
     "execution_count": 10,
     "metadata": {},
     "output_type": "execute_result"
    }
   ],
   "source": [
    "\n",
    "a=rq.urlretrieve(\"https://raw.githubusercontent.com/AdiPersonalWorks/Random/master/student_scores%20-%20student_scores.csv\", \"d:/sparksdata.csv\")\n",
    "\n",
    "theta = np.zeros((2,1))\n",
    "df = pd.read_csv(\"d:/sparksdata.csv\")\n",
    "ones = np.ones((25,1))\n",
    "independent = (np.array(df.iloc[:, 0]).reshape(df.shape[0], 1))\n",
    "x = np.hstack((ones,independent))\n",
    "z = np.append(x, [[1,9.5]], axis=0)\n",
    "y = np.array(df.iloc[:,1]).reshape(df.shape[0], 1)\n",
    "\n",
    "x"
   ]
  },
  {
   "cell_type": "code",
   "execution_count": 43,
   "id": "ae546df8",
   "metadata": {},
   "outputs": [],
   "source": [
    "\n",
    "def computecost(x,y,theta):\n",
    "    \n",
    "    temp = np.dot(x,theta)-y\n",
    "    m = x.shape[0]\n",
    "    #e = (1/2*m)*np.sum((temp)**2)\n",
    "    e = np.sum(np.power(temp, 2))/(2*m)\n",
    "    return e\n",
    "    \n",
    "    "
   ]
  },
  {
   "cell_type": "code",
   "execution_count": 44,
   "id": "0370649d",
   "metadata": {},
   "outputs": [
    {
     "data": {
      "text/plain": [
       "1632.02"
      ]
     },
     "execution_count": 44,
     "metadata": {},
     "output_type": "execute_result"
    }
   ],
   "source": [
    "computecost(x,y,theta)"
   ]
  },
  {
   "cell_type": "code",
   "execution_count": 85,
   "id": "8c033ffd",
   "metadata": {},
   "outputs": [],
   "source": [
    "def gradientdescent(x,y,theta,alpha,iter):\n",
    "    l = []\n",
    "    m=x.shape[0]\n",
    "    for i in range(iter):\n",
    "        temp = np.dot(x, theta)-y\n",
    "        temp=np.dot(x.T,temp)\n",
    "        theta = theta-(alpha/m)*temp\n",
    "        return theta\n",
    "alpha = 0.01\n",
    "iterations = 5500\n",
    "theta = gradientdescent(x,y,theta,alpha,iterations)\n"
   ]
  },
  {
   "cell_type": "code",
   "execution_count": 86,
   "id": "09903950",
   "metadata": {},
   "outputs": [
    {
     "data": {
      "text/plain": [
       "14.513037805402845"
      ]
     },
     "execution_count": 86,
     "metadata": {},
     "output_type": "execute_result"
    }
   ],
   "source": [
    "l=computecost(x,y,theta)\n",
    "l"
   ]
  },
  {
   "cell_type": "code",
   "execution_count": null,
   "id": "38f50b48",
   "metadata": {},
   "outputs": [],
   "source": []
  },
  {
   "cell_type": "code",
   "execution_count": null,
   "id": "cb1acd35",
   "metadata": {},
   "outputs": [],
   "source": []
  },
  {
   "cell_type": "code",
   "execution_count": null,
   "id": "b198a696",
   "metadata": {},
   "outputs": [],
   "source": []
  },
  {
   "cell_type": "code",
   "execution_count": null,
   "id": "b004f284",
   "metadata": {},
   "outputs": [],
   "source": []
  },
  {
   "cell_type": "code",
   "execution_count": 87,
   "id": "55c662e6",
   "metadata": {},
   "outputs": [
    {
     "data": {
      "image/png": "[encoded data removed]",
      "text/plain": [
       "<Figure size 648x504 with 1 Axes>"
      ]
     },
     "metadata": {
      "needs_background": "light"
     },
     "output_type": "display_data"
    }
   ],
   "source": [
    "plt.figure(figsize = (9,7))\n",
    "\n",
    "plt.scatter(x[:,1], y)\n",
    "plt.plot(x[:,1], np.dot(x,theta), color= \"magenta\", marker= \"x\")\n",
    "plt.xlabel(\"CREDIT HOURS\", color = \"blue\", fontsize = 15)\n",
    "plt.ylabel(\"SCORES\", color = \"blue\", fontsize = 15)\n",
    "plt.yticks([20,40,60,80,100])\n",
    "plt.title(\"STUDENT'S SCORE BASED ON THE CREDIT HOURS\", fontsize= 18, color = \"black\", fontweight=\"bold\");\n"
   ]
  },
  {
   "cell_type": "code",
   "execution_count": null,
   "id": "d0686fab",
   "metadata": {},
   "outputs": [],
   "source": []
  },
  {
   "cell_type": "code",
   "execution_count": null,
   "id": "92eb24fe",
   "metadata": {},
   "outputs": [],
   "source": []
  }
 ],
 "metadata": {
  "kernelspec": {
   "display_name": "Python 3",
   "language": "python",
   "name": "python3"
  },
  "language_info": {
   "codemirror_mode": {
    "name": "ipython",
    "version": 3
   },
   "file_extension": ".py",
   "mimetype": "text/x-python",
   "name": "python",
   "nbconvert_exporter": "python",
   "pygments_lexer": "ipython3",
   "version": "3.8.8"
  }
 },
 "nbformat": 4,
 "nbformat_minor": 5
}
